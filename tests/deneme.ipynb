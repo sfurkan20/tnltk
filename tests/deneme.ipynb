{
 "cells": [
  {
   "cell_type": "code",
   "execution_count": 32,
   "metadata": {},
   "outputs": [],
   "source": []
  },
  {
   "cell_type": "markdown",
   "metadata": {},
   "source": []
  },
  {
   "cell_type": "code",
   "execution_count": 21,
   "metadata": {},
   "outputs": [
    {
     "data": {
      "text/plain": [
       "\"Evi bir milyon beş yüz bir bin dokuz yüz doksan dokuz TL Değerinde! Çok güzel bir evi var ama üç virgül beş ay'dır satamamışlar bu evi.\""
      ]
     },
     "execution_count": 21,
     "metadata": {},
     "output_type": "execute_result"
    }
   ],
   "source": [
    "convert_text_numbers(\"Evi 1501999 TL Değerinde! Çok güzel bir evi var ama 3,5 ay'dır satamamışlar bu evi.\")"
   ]
  },
  {
   "cell_type": "code",
   "execution_count": 30,
   "metadata": {},
   "outputs": [
    {
     "name": "stderr",
     "output_type": "stream",
     "text": [
      "/var/folders/f4/wwj4sc190c10n1w58215_5kw0000gn/T/ipykernel_13088/2011872312.py:55: UserWarning: In Turkish language, decimal numbers 0.5 are expressed with commas.\n",
      "  return warnings.warn(f\"In Turkish language, decimal numbers {number} are expressed with commas.\")\n"
     ]
    },
    {
     "data": {
      "text/plain": [
       "\"Evi bir milyon TL Değerinde! Çok güzel bir evi var ama üç ay'dır satamamışlar bu evi.\""
      ]
     },
     "execution_count": 30,
     "metadata": {},
     "output_type": "execute_result"
    }
   ],
   "source": [
    "convert_text_numbers(\"Evi 1000000 TL Değerinde! Çok güzel bir evi var ama 3.5 ay'dır satamamışlar bu evi.\")"
   ]
  },
  {
   "cell_type": "code",
   "execution_count": null,
   "metadata": {},
   "outputs": [],
   "source": []
  }
 ],
 "metadata": {
  "kernelspec": {
   "display_name": "base",
   "language": "python",
   "name": "python3"
  },
  "language_info": {
   "codemirror_mode": {
    "name": "ipython",
    "version": 3
   },
   "file_extension": ".py",
   "mimetype": "text/x-python",
   "name": "python",
   "nbconvert_exporter": "python",
   "pygments_lexer": "ipython3",
   "version": "3.9.7"
  },
  "orig_nbformat": 4,
  "vscode": {
   "interpreter": {
    "hash": "be7372955a7040510ea7ee3cc8ed40465b65af60c29242fe5cc9e0fed564b3ea"
   }
  }
 },
 "nbformat": 4,
 "nbformat_minor": 2
}
